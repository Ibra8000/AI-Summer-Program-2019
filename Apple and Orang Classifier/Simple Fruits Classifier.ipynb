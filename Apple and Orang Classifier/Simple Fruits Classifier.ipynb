{
 "cells": [
  {
   "cell_type": "markdown",
   "metadata": {},
   "source": [
    "## A Simple Machine Learning App to Classify Apple & Orange"
   ]
  },
  {
   "cell_type": "markdown",
   "metadata": {},
   "source": [
    "<img src=\"images/apple_and_orange4.jpg\" />\n",
    "\n",
    "In this simple tutorial, we are going to illustrate the working principle behind supervised learning. Simply we will create a simple machine learning application that has the ability to learn the differenes between the two fruits (e.g., an apple and an orange) and make prediction accordingly, after being given some examples."
   ]
  },
  {
   "cell_type": "markdown",
   "metadata": {},
   "source": [
    "### Let's get started"
   ]
  },
  {
   "cell_type": "markdown",
   "metadata": {},
   "source": [
    "First, we will import the required libraries.\n"
   ]
  },
  {
   "cell_type": "code",
   "execution_count": 1,
   "metadata": {},
   "outputs": [],
   "source": [
    "from sklearn import tree"
   ]
  },
  {
   "cell_type": "markdown",
   "metadata": {},
   "source": [
    "Next, our supervised learning recipe has the folloing flow:\n",
    "* Data Preparation\n",
    "* Supervised Learning\n",
    "* Making Predictions\n",
    "\n",
    "Let's talk about each of the steps"
   ]
  },
  {
   "cell_type": "markdown",
   "metadata": {},
   "source": [
    "### Data Preparation"
   ]
  },
  {
   "cell_type": "markdown",
   "metadata": {},
   "source": [
    "Te data preparaton is really really an important phase in order to create a successful machine learning application. This single stage can holds a number of several sub-phases such as collection, exploration, improving quality, feature engineering, and spliting for training, testing and evaluation. \n",
    "\n",
    "Today, we keep this tutorial as simple as possible. Thus, we will use a tiny data set taken from [here](https://blog.education-ecosystem.com/a-simple-machine-learning-algorithm-to-differentiate-between-an-apple-and-an-orange/). \n",
    "\n",
    "This data set consist of 4 examples as follows:\n",
    "\n",
    "| Weight (grams) | Texture | Class/Label |\n",
    "| --- | --- | --- |\n",
    "| 155 | Rough | Orange |\n",
    "| 180 | Rough | Orange |\n",
    "| 135 | Smooth | Apple |\n",
    "| 110 | Smooth | Apple |\n",
    "\n",
    "Those examples of apples and oranges in the table will be used as training data in the following."
   ]
  },
  {
   "cell_type": "code",
   "execution_count": 2,
   "metadata": {},
   "outputs": [],
   "source": [
    "# Use Python array to store the table's values\n",
    "\n",
    "# TODO: Create a feature array with the appropriate features values\n",
    "features = [[155, \"rough\"],\n",
    "            [180, \"rough\"],\n",
    "            [135, \"smooth\"],\n",
    "            [110, \"smooth\"]]\n",
    "\n",
    "# TODO: Create a label array with the appropriate class/label values\n",
    "labels = [\"orange\",\n",
    "          \"orange\",\n",
    "          \"apple\",\n",
    "          \"apple\"]\n"
   ]
  },
  {
   "cell_type": "markdown",
   "metadata": {},
   "source": [
    "**Note** \n",
    "\n",
    "Some machine learning algorithms work better when convert categorical data, or text data, into numbers. Thus, it is a common requirement for many machine learning algotihms implemented in scikit-learn; please see [*LabelEncoder*](https://scikit-learn.org/stable/modules/generated/sklearn.preprocessing.LabelEncoder.html) and [this](https://medium.com/@contactsunny/label-encoder-vs-one-hot-encoder-in-machine-learning-3fc273365621)\n",
    "\n",
    "Since scikit-learn requires numerical features, let's convert the features/class/label of orange and apple and give them  integer values of **1** and **0**, respectively.\n"
   ]
  },
  {
   "cell_type": "markdown",
   "metadata": {},
   "source": [
    "_New Python Code_\n",
    "We will update our code to reflect the change so that we have\n",
    "* rough as 0 and smooth as 1\n",
    "* oranges as 1 and apples as 0"
   ]
  },
  {
   "cell_type": "code",
   "execution_count": 3,
   "metadata": {},
   "outputs": [],
   "source": [
    "# convert categorical data into numbers and re-write the above Python arraies \n",
    "\n",
    "# TODO: modify categorical data into numbers\n",
    "features = [[155, 0],\n",
    "            [180, 0],\n",
    "            [135, 1],\n",
    "            [110, 1]]\n",
    "\n",
    "# TODO: modify categorical data into numbers\n",
    "labels = [1,\n",
    "          1,\n",
    "          0,\n",
    "          0]\n"
   ]
  },
  {
   "cell_type": "markdown",
   "metadata": {},
   "source": [
    "### Supervised Learning"
   ]
  },
  {
   "cell_type": "markdown",
   "metadata": {},
   "source": [
    "In machine learning, classification is a supervised learning wherby the alorithm learns from a set of exampled and labled data.\n",
    "\n",
    "To achieve this task, we will use\n",
    "* [Scikit-Learn](https://scikit-learn.org/stable/) - Machine Learnong lirary for Python\n",
    "* [Decision Tree](https://scikit-learn.org/stable/modules/tree.html) algorithm as supervised machine learnign classifer."
   ]
  },
  {
   "cell_type": "markdown",
   "metadata": {},
   "source": [
    "Now, let pass our training set, which consist of features and labels, to the _fit_ method in order to _learn_ from these examples."
   ]
  },
  {
   "cell_type": "code",
   "execution_count": 4,
   "metadata": {},
   "outputs": [],
   "source": [
    "# Training the model\n",
    "classifier = tree.DecisionTreeClassifier() # initilize the classifire\n",
    "classifier = classifier.fit(features, labels) # train (learn) from our data"
   ]
  },
  {
   "cell_type": "markdown",
   "metadata": {},
   "source": [
    "After being fitted (learned), the model can then be used to predict the class of NEW samples:\n",
    "\n"
   ]
  },
  {
   "cell_type": "code",
   "execution_count": 5,
   "metadata": {},
   "outputs": [
    {
     "name": "stdout",
     "output_type": "stream",
     "text": [
      "[0]\n"
     ]
    }
   ],
   "source": [
    "prediction = classifier.predict([[120, 1]])\n",
    "print (prediction)"
   ]
  },
  {
   "cell_type": "markdown",
   "metadata": {},
   "source": [
    "_or you can printed in more readable way.._"
   ]
  },
  {
   "cell_type": "code",
   "execution_count": 6,
   "metadata": {},
   "outputs": [
    {
     "name": "stdout",
     "output_type": "stream",
     "text": [
      "Apple\n"
     ]
    }
   ],
   "source": [
    "prediction = \"Orange\" if classifier.predict([[120, 1]]) else \"Apple\"\n",
    "print (prediction)"
   ]
  },
  {
   "cell_type": "markdown",
   "metadata": {},
   "source": [
    "### Exercise\n"
   ]
  },
  {
   "cell_type": "markdown",
   "metadata": {},
   "source": [
    "please do the following:\n",
    "* convert the orange & apple data set into scv file\n",
    "* use panda to read the file\n",
    "* use LabelEncoder method to change categorical data into numerical data"
   ]
  },
  {
   "cell_type": "code",
   "execution_count": 7,
   "metadata": {},
   "outputs": [
    {
     "data": {
      "text/html": [
       "<div>\n",
       "<style scoped>\n",
       "    .dataframe tbody tr th:only-of-type {\n",
       "        vertical-align: middle;\n",
       "    }\n",
       "\n",
       "    .dataframe tbody tr th {\n",
       "        vertical-align: top;\n",
       "    }\n",
       "\n",
       "    .dataframe thead th {\n",
       "        text-align: right;\n",
       "    }\n",
       "</style>\n",
       "<table border=\"1\" class=\"dataframe\">\n",
       "  <thead>\n",
       "    <tr style=\"text-align: right;\">\n",
       "      <th></th>\n",
       "      <th>Weight (grams)</th>\n",
       "      <th>Texture</th>\n",
       "      <th>Label</th>\n",
       "    </tr>\n",
       "  </thead>\n",
       "  <tbody>\n",
       "    <tr>\n",
       "      <th>0</th>\n",
       "      <td>155</td>\n",
       "      <td>Rough</td>\n",
       "      <td>Orange</td>\n",
       "    </tr>\n",
       "    <tr>\n",
       "      <th>1</th>\n",
       "      <td>180</td>\n",
       "      <td>Rough</td>\n",
       "      <td>Orange</td>\n",
       "    </tr>\n",
       "    <tr>\n",
       "      <th>2</th>\n",
       "      <td>135</td>\n",
       "      <td>Smooth</td>\n",
       "      <td>Apple</td>\n",
       "    </tr>\n",
       "    <tr>\n",
       "      <th>3</th>\n",
       "      <td>110</td>\n",
       "      <td>Smooth</td>\n",
       "      <td>Apple</td>\n",
       "    </tr>\n",
       "  </tbody>\n",
       "</table>\n",
       "</div>"
      ],
      "text/plain": [
       "   Weight (grams) Texture   Label\n",
       "0             155   Rough  Orange\n",
       "1             180   Rough  Orange\n",
       "2             135  Smooth   Apple\n",
       "3             110  Smooth   Apple"
      ]
     },
     "execution_count": 7,
     "metadata": {},
     "output_type": "execute_result"
    }
   ],
   "source": [
    "import pandas as pd\n",
    "\n",
    "data = pd.read_csv('apple_and_orange.csv')\n",
    "data.head()"
   ]
  },
  {
   "cell_type": "markdown",
   "metadata": {},
   "source": [
    "_please Complete the work..._"
   ]
  }
 ],
 "metadata": {
  "kernelspec": {
   "display_name": "Python 3",
   "language": "python",
   "name": "python3"
  },
  "language_info": {
   "codemirror_mode": {
    "name": "ipython",
    "version": 3
   },
   "file_extension": ".py",
   "mimetype": "text/x-python",
   "name": "python",
   "nbconvert_exporter": "python",
   "pygments_lexer": "ipython3",
   "version": "3.7.3"
  }
 },
 "nbformat": 4,
 "nbformat_minor": 2
}
